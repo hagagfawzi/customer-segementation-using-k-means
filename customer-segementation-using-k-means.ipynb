{
 "cells": [
  {
   "cell_type": "markdown",
   "id": "8449c7c8",
   "metadata": {
    "_cell_guid": "b1076dfc-b9ad-4769-8c92-a6c4dae69d19",
    "_uuid": "8f2839f25d086af736a60e9eeb907d3b93b6e0e5",
    "papermill": {
     "duration": 0.005155,
     "end_time": "2024-07-10T01:35:01.985430",
     "exception": false,
     "start_time": "2024-07-10T01:35:01.980275",
     "status": "completed"
    },
    "tags": []
   },
   "source": [
    "The Customer Segementation using K-Means falls under Clustering Machine Learning."
   ]
  },
  {
   "cell_type": "code",
   "execution_count": 1,
   "id": "935a4146",
   "metadata": {
    "execution": {
     "iopub.execute_input": "2024-07-10T01:35:01.997369Z",
     "iopub.status.busy": "2024-07-10T01:35:01.996997Z",
     "iopub.status.idle": "2024-07-10T01:35:04.140156Z",
     "shell.execute_reply": "2024-07-10T01:35:04.139084Z"
    },
    "papermill": {
     "duration": 2.151722,
     "end_time": "2024-07-10T01:35:04.142661",
     "exception": false,
     "start_time": "2024-07-10T01:35:01.990939",
     "status": "completed"
    },
    "tags": []
   },
   "outputs": [],
   "source": [
    "import numpy as np\n",
    "import pandas as pd\n",
    "import matplotlib.pyplot as plt\n",
    "from sklearn.preprocessing import StandardScaler, OrdinalEncoder\n",
    "from sklearn.cluster import KMeans\n",
    "from sklearn.metrics import silhouette_score"
   ]
  },
  {
   "cell_type": "code",
   "execution_count": 2,
   "id": "5b6f5db8",
   "metadata": {
    "execution": {
     "iopub.execute_input": "2024-07-10T01:35:04.154748Z",
     "iopub.status.busy": "2024-07-10T01:35:04.153680Z",
     "iopub.status.idle": "2024-07-10T01:36:15.620323Z",
     "shell.execute_reply": "2024-07-10T01:36:15.619251Z"
    },
    "papermill": {
     "duration": 71.479,
     "end_time": "2024-07-10T01:36:15.626555",
     "exception": false,
     "start_time": "2024-07-10T01:35:04.147555",
     "status": "completed"
    },
    "tags": []
   },
   "outputs": [
    {
     "data": {
      "text/html": [
       "<div>\n",
       "<style scoped>\n",
       "    .dataframe tbody tr th:only-of-type {\n",
       "        vertical-align: middle;\n",
       "    }\n",
       "\n",
       "    .dataframe tbody tr th {\n",
       "        vertical-align: top;\n",
       "    }\n",
       "\n",
       "    .dataframe thead th {\n",
       "        text-align: right;\n",
       "    }\n",
       "</style>\n",
       "<table border=\"1\" class=\"dataframe\">\n",
       "  <thead>\n",
       "    <tr style=\"text-align: right;\">\n",
       "      <th></th>\n",
       "      <th>InvoiceNo</th>\n",
       "      <th>StockCode</th>\n",
       "      <th>Description</th>\n",
       "      <th>Quantity</th>\n",
       "      <th>InvoiceDate</th>\n",
       "      <th>UnitPrice</th>\n",
       "      <th>CustomerID</th>\n",
       "      <th>Country</th>\n",
       "    </tr>\n",
       "  </thead>\n",
       "  <tbody>\n",
       "    <tr>\n",
       "      <th>0</th>\n",
       "      <td>536365</td>\n",
       "      <td>85123A</td>\n",
       "      <td>WHITE HANGING HEART T-LIGHT HOLDER</td>\n",
       "      <td>6</td>\n",
       "      <td>2010-12-01 08:26:00</td>\n",
       "      <td>2.55</td>\n",
       "      <td>17850.0</td>\n",
       "      <td>United Kingdom</td>\n",
       "    </tr>\n",
       "    <tr>\n",
       "      <th>1</th>\n",
       "      <td>536365</td>\n",
       "      <td>71053</td>\n",
       "      <td>WHITE METAL LANTERN</td>\n",
       "      <td>6</td>\n",
       "      <td>2010-12-01 08:26:00</td>\n",
       "      <td>3.39</td>\n",
       "      <td>17850.0</td>\n",
       "      <td>United Kingdom</td>\n",
       "    </tr>\n",
       "    <tr>\n",
       "      <th>2</th>\n",
       "      <td>536365</td>\n",
       "      <td>84406B</td>\n",
       "      <td>CREAM CUPID HEARTS COAT HANGER</td>\n",
       "      <td>8</td>\n",
       "      <td>2010-12-01 08:26:00</td>\n",
       "      <td>2.75</td>\n",
       "      <td>17850.0</td>\n",
       "      <td>United Kingdom</td>\n",
       "    </tr>\n",
       "    <tr>\n",
       "      <th>3</th>\n",
       "      <td>536365</td>\n",
       "      <td>84029G</td>\n",
       "      <td>KNITTED UNION FLAG HOT WATER BOTTLE</td>\n",
       "      <td>6</td>\n",
       "      <td>2010-12-01 08:26:00</td>\n",
       "      <td>3.39</td>\n",
       "      <td>17850.0</td>\n",
       "      <td>United Kingdom</td>\n",
       "    </tr>\n",
       "    <tr>\n",
       "      <th>4</th>\n",
       "      <td>536365</td>\n",
       "      <td>84029E</td>\n",
       "      <td>RED WOOLLY HOTTIE WHITE HEART.</td>\n",
       "      <td>6</td>\n",
       "      <td>2010-12-01 08:26:00</td>\n",
       "      <td>3.39</td>\n",
       "      <td>17850.0</td>\n",
       "      <td>United Kingdom</td>\n",
       "    </tr>\n",
       "  </tbody>\n",
       "</table>\n",
       "</div>"
      ],
      "text/plain": [
       "  InvoiceNo StockCode                          Description  Quantity  \\\n",
       "0    536365    85123A   WHITE HANGING HEART T-LIGHT HOLDER         6   \n",
       "1    536365     71053                  WHITE METAL LANTERN         6   \n",
       "2    536365    84406B       CREAM CUPID HEARTS COAT HANGER         8   \n",
       "3    536365    84029G  KNITTED UNION FLAG HOT WATER BOTTLE         6   \n",
       "4    536365    84029E       RED WOOLLY HOTTIE WHITE HEART.         6   \n",
       "\n",
       "          InvoiceDate  UnitPrice  CustomerID         Country  \n",
       "0 2010-12-01 08:26:00       2.55     17850.0  United Kingdom  \n",
       "1 2010-12-01 08:26:00       3.39     17850.0  United Kingdom  \n",
       "2 2010-12-01 08:26:00       2.75     17850.0  United Kingdom  \n",
       "3 2010-12-01 08:26:00       3.39     17850.0  United Kingdom  \n",
       "4 2010-12-01 08:26:00       3.39     17850.0  United Kingdom  "
      ]
     },
     "execution_count": 2,
     "metadata": {},
     "output_type": "execute_result"
    }
   ],
   "source": [
    "customers = pd.read_excel('/kaggle/input/customer-segmentation-dataset/Online Retail.xlsx')\n",
    "customers.head()"
   ]
  },
  {
   "cell_type": "code",
   "execution_count": 3,
   "id": "882c8779",
   "metadata": {
    "execution": {
     "iopub.execute_input": "2024-07-10T01:36:15.638810Z",
     "iopub.status.busy": "2024-07-10T01:36:15.637792Z",
     "iopub.status.idle": "2024-07-10T01:36:15.748676Z",
     "shell.execute_reply": "2024-07-10T01:36:15.747685Z"
    },
    "papermill": {
     "duration": 0.119402,
     "end_time": "2024-07-10T01:36:15.751012",
     "exception": false,
     "start_time": "2024-07-10T01:36:15.631610",
     "status": "completed"
    },
    "tags": []
   },
   "outputs": [
    {
     "data": {
      "text/plain": [
       "InvoiceNo           0\n",
       "StockCode           0\n",
       "Description      1454\n",
       "Quantity            0\n",
       "InvoiceDate         0\n",
       "UnitPrice           0\n",
       "CustomerID     135080\n",
       "Country             0\n",
       "dtype: int64"
      ]
     },
     "execution_count": 3,
     "metadata": {},
     "output_type": "execute_result"
    }
   ],
   "source": [
    "#Data information and cleaning\n",
    "customers.isna().sum()"
   ]
  },
  {
   "cell_type": "code",
   "execution_count": 4,
   "id": "22d5e477",
   "metadata": {
    "execution": {
     "iopub.execute_input": "2024-07-10T01:36:15.763133Z",
     "iopub.status.busy": "2024-07-10T01:36:15.762729Z",
     "iopub.status.idle": "2024-07-10T01:36:15.874208Z",
     "shell.execute_reply": "2024-07-10T01:36:15.873209Z"
    },
    "papermill": {
     "duration": 0.120299,
     "end_time": "2024-07-10T01:36:15.876473",
     "exception": false,
     "start_time": "2024-07-10T01:36:15.756174",
     "status": "completed"
    },
    "tags": []
   },
   "outputs": [
    {
     "data": {
      "text/plain": [
       "InvoiceNo      541909\n",
       "StockCode      541909\n",
       "Description    540455\n",
       "Quantity       541909\n",
       "InvoiceDate    541909\n",
       "UnitPrice      541909\n",
       "CustomerID     406829\n",
       "Country        541909\n",
       "dtype: int64"
      ]
     },
     "execution_count": 4,
     "metadata": {},
     "output_type": "execute_result"
    }
   ],
   "source": [
    "customers.notna().sum()"
   ]
  },
  {
   "cell_type": "code",
   "execution_count": 5,
   "id": "d8ec1c42",
   "metadata": {
    "execution": {
     "iopub.execute_input": "2024-07-10T01:36:15.888566Z",
     "iopub.status.busy": "2024-07-10T01:36:15.888189Z",
     "iopub.status.idle": "2024-07-10T01:36:15.980493Z",
     "shell.execute_reply": "2024-07-10T01:36:15.979501Z"
    },
    "papermill": {
     "duration": 0.101104,
     "end_time": "2024-07-10T01:36:15.982792",
     "exception": false,
     "start_time": "2024-07-10T01:36:15.881688",
     "status": "completed"
    },
    "tags": []
   },
   "outputs": [
    {
     "data": {
      "text/html": [
       "<div>\n",
       "<style scoped>\n",
       "    .dataframe tbody tr th:only-of-type {\n",
       "        vertical-align: middle;\n",
       "    }\n",
       "\n",
       "    .dataframe tbody tr th {\n",
       "        vertical-align: top;\n",
       "    }\n",
       "\n",
       "    .dataframe thead th {\n",
       "        text-align: right;\n",
       "    }\n",
       "</style>\n",
       "<table border=\"1\" class=\"dataframe\">\n",
       "  <thead>\n",
       "    <tr style=\"text-align: right;\">\n",
       "      <th></th>\n",
       "      <th>Quantity</th>\n",
       "      <th>InvoiceDate</th>\n",
       "      <th>UnitPrice</th>\n",
       "      <th>CustomerID</th>\n",
       "    </tr>\n",
       "  </thead>\n",
       "  <tbody>\n",
       "    <tr>\n",
       "      <th>count</th>\n",
       "      <td>541909.000000</td>\n",
       "      <td>541909</td>\n",
       "      <td>541909.000000</td>\n",
       "      <td>406829.000000</td>\n",
       "    </tr>\n",
       "    <tr>\n",
       "      <th>mean</th>\n",
       "      <td>9.552250</td>\n",
       "      <td>2011-07-04 13:34:57.156386048</td>\n",
       "      <td>4.611114</td>\n",
       "      <td>15287.690570</td>\n",
       "    </tr>\n",
       "    <tr>\n",
       "      <th>min</th>\n",
       "      <td>-80995.000000</td>\n",
       "      <td>2010-12-01 08:26:00</td>\n",
       "      <td>-11062.060000</td>\n",
       "      <td>12346.000000</td>\n",
       "    </tr>\n",
       "    <tr>\n",
       "      <th>25%</th>\n",
       "      <td>1.000000</td>\n",
       "      <td>2011-03-28 11:34:00</td>\n",
       "      <td>1.250000</td>\n",
       "      <td>13953.000000</td>\n",
       "    </tr>\n",
       "    <tr>\n",
       "      <th>50%</th>\n",
       "      <td>3.000000</td>\n",
       "      <td>2011-07-19 17:17:00</td>\n",
       "      <td>2.080000</td>\n",
       "      <td>15152.000000</td>\n",
       "    </tr>\n",
       "    <tr>\n",
       "      <th>75%</th>\n",
       "      <td>10.000000</td>\n",
       "      <td>2011-10-19 11:27:00</td>\n",
       "      <td>4.130000</td>\n",
       "      <td>16791.000000</td>\n",
       "    </tr>\n",
       "    <tr>\n",
       "      <th>max</th>\n",
       "      <td>80995.000000</td>\n",
       "      <td>2011-12-09 12:50:00</td>\n",
       "      <td>38970.000000</td>\n",
       "      <td>18287.000000</td>\n",
       "    </tr>\n",
       "    <tr>\n",
       "      <th>std</th>\n",
       "      <td>218.081158</td>\n",
       "      <td>NaN</td>\n",
       "      <td>96.759853</td>\n",
       "      <td>1713.600303</td>\n",
       "    </tr>\n",
       "  </tbody>\n",
       "</table>\n",
       "</div>"
      ],
      "text/plain": [
       "            Quantity                    InvoiceDate      UnitPrice  \\\n",
       "count  541909.000000                         541909  541909.000000   \n",
       "mean        9.552250  2011-07-04 13:34:57.156386048       4.611114   \n",
       "min    -80995.000000            2010-12-01 08:26:00  -11062.060000   \n",
       "25%         1.000000            2011-03-28 11:34:00       1.250000   \n",
       "50%         3.000000            2011-07-19 17:17:00       2.080000   \n",
       "75%        10.000000            2011-10-19 11:27:00       4.130000   \n",
       "max     80995.000000            2011-12-09 12:50:00   38970.000000   \n",
       "std       218.081158                            NaN      96.759853   \n",
       "\n",
       "          CustomerID  \n",
       "count  406829.000000  \n",
       "mean    15287.690570  \n",
       "min     12346.000000  \n",
       "25%     13953.000000  \n",
       "50%     15152.000000  \n",
       "75%     16791.000000  \n",
       "max     18287.000000  \n",
       "std      1713.600303  "
      ]
     },
     "execution_count": 5,
     "metadata": {},
     "output_type": "execute_result"
    }
   ],
   "source": [
    "customers.describe()"
   ]
  },
  {
   "cell_type": "code",
   "execution_count": 6,
   "id": "4543c3de",
   "metadata": {
    "execution": {
     "iopub.execute_input": "2024-07-10T01:36:15.996123Z",
     "iopub.status.busy": "2024-07-10T01:36:15.995234Z",
     "iopub.status.idle": "2024-07-10T01:36:16.119164Z",
     "shell.execute_reply": "2024-07-10T01:36:16.117895Z"
    },
    "papermill": {
     "duration": 0.133227,
     "end_time": "2024-07-10T01:36:16.121660",
     "exception": false,
     "start_time": "2024-07-10T01:36:15.988433",
     "status": "completed"
    },
    "tags": []
   },
   "outputs": [
    {
     "name": "stdout",
     "output_type": "stream",
     "text": [
      "<class 'pandas.core.frame.DataFrame'>\n",
      "RangeIndex: 541909 entries, 0 to 541908\n",
      "Data columns (total 8 columns):\n",
      " #   Column       Non-Null Count   Dtype         \n",
      "---  ------       --------------   -----         \n",
      " 0   InvoiceNo    541909 non-null  object        \n",
      " 1   StockCode    541909 non-null  object        \n",
      " 2   Description  540455 non-null  object        \n",
      " 3   Quantity     541909 non-null  int64         \n",
      " 4   InvoiceDate  541909 non-null  datetime64[ns]\n",
      " 5   UnitPrice    541909 non-null  float64       \n",
      " 6   CustomerID   406829 non-null  float64       \n",
      " 7   Country      541909 non-null  object        \n",
      "dtypes: datetime64[ns](1), float64(2), int64(1), object(4)\n",
      "memory usage: 33.1+ MB\n"
     ]
    }
   ],
   "source": [
    "customers.info()"
   ]
  },
  {
   "cell_type": "code",
   "execution_count": 7,
   "id": "b6d7c97a",
   "metadata": {
    "execution": {
     "iopub.execute_input": "2024-07-10T01:36:16.134825Z",
     "iopub.status.busy": "2024-07-10T01:36:16.134190Z",
     "iopub.status.idle": "2024-07-10T01:36:16.176075Z",
     "shell.execute_reply": "2024-07-10T01:36:16.175034Z"
    },
    "papermill": {
     "duration": 0.051098,
     "end_time": "2024-07-10T01:36:16.178402",
     "exception": false,
     "start_time": "2024-07-10T01:36:16.127304",
     "status": "completed"
    },
    "tags": []
   },
   "outputs": [
    {
     "data": {
      "text/plain": [
       "array(['United Kingdom', 'France', 'Australia', 'Netherlands', 'Germany',\n",
       "       'Norway', 'EIRE', 'Switzerland', 'Spain', 'Poland', 'Portugal',\n",
       "       'Italy', 'Belgium', 'Lithuania', 'Japan', 'Iceland',\n",
       "       'Channel Islands', 'Denmark', 'Cyprus', 'Sweden', 'Austria',\n",
       "       'Israel', 'Finland', 'Bahrain', 'Greece', 'Hong Kong', 'Singapore',\n",
       "       'Lebanon', 'United Arab Emirates', 'Saudi Arabia',\n",
       "       'Czech Republic', 'Canada', 'Unspecified', 'Brazil', 'USA',\n",
       "       'European Community', 'Malta', 'RSA'], dtype=object)"
      ]
     },
     "execution_count": 7,
     "metadata": {},
     "output_type": "execute_result"
    }
   ],
   "source": [
    "customers['Country'].unique()"
   ]
  },
  {
   "cell_type": "code",
   "execution_count": 8,
   "id": "5fc0ab49",
   "metadata": {
    "execution": {
     "iopub.execute_input": "2024-07-10T01:36:16.192107Z",
     "iopub.status.busy": "2024-07-10T01:36:16.191259Z",
     "iopub.status.idle": "2024-07-10T01:36:16.229508Z",
     "shell.execute_reply": "2024-07-10T01:36:16.228562Z"
    },
    "papermill": {
     "duration": 0.047521,
     "end_time": "2024-07-10T01:36:16.231750",
     "exception": false,
     "start_time": "2024-07-10T01:36:16.184229",
     "status": "completed"
    },
    "tags": []
   },
   "outputs": [
    {
     "data": {
      "text/html": [
       "<div>\n",
       "<style scoped>\n",
       "    .dataframe tbody tr th:only-of-type {\n",
       "        vertical-align: middle;\n",
       "    }\n",
       "\n",
       "    .dataframe tbody tr th {\n",
       "        vertical-align: top;\n",
       "    }\n",
       "\n",
       "    .dataframe thead th {\n",
       "        text-align: right;\n",
       "    }\n",
       "</style>\n",
       "<table border=\"1\" class=\"dataframe\">\n",
       "  <thead>\n",
       "    <tr style=\"text-align: right;\">\n",
       "      <th></th>\n",
       "      <th>Quantity</th>\n",
       "      <th>UnitPrice</th>\n",
       "      <th>Country</th>\n",
       "    </tr>\n",
       "  </thead>\n",
       "  <tbody>\n",
       "    <tr>\n",
       "      <th>107620</th>\n",
       "      <td>2</td>\n",
       "      <td>1.95</td>\n",
       "      <td>United Kingdom</td>\n",
       "    </tr>\n",
       "    <tr>\n",
       "      <th>537980</th>\n",
       "      <td>2</td>\n",
       "      <td>1.25</td>\n",
       "      <td>United Kingdom</td>\n",
       "    </tr>\n",
       "    <tr>\n",
       "      <th>175435</th>\n",
       "      <td>10</td>\n",
       "      <td>1.25</td>\n",
       "      <td>United Kingdom</td>\n",
       "    </tr>\n",
       "    <tr>\n",
       "      <th>481228</th>\n",
       "      <td>6</td>\n",
       "      <td>2.95</td>\n",
       "      <td>EIRE</td>\n",
       "    </tr>\n",
       "    <tr>\n",
       "      <th>301715</th>\n",
       "      <td>6</td>\n",
       "      <td>14.95</td>\n",
       "      <td>United Kingdom</td>\n",
       "    </tr>\n",
       "  </tbody>\n",
       "</table>\n",
       "</div>"
      ],
      "text/plain": [
       "        Quantity  UnitPrice         Country\n",
       "107620         2       1.95  United Kingdom\n",
       "537980         2       1.25  United Kingdom\n",
       "175435        10       1.25  United Kingdom\n",
       "481228         6       2.95            EIRE\n",
       "301715         6      14.95  United Kingdom"
      ]
     },
     "execution_count": 8,
     "metadata": {},
     "output_type": "execute_result"
    }
   ],
   "source": [
    "# Clean dataset for NaN values and drop useless columns\n",
    "new_customers = customers.drop(columns = ['StockCode', 'Description', 'InvoiceDate', 'CustomerID', 'InvoiceNo'], axis = 1)\n",
    "new_customers.sample(5)"
   ]
  },
  {
   "cell_type": "code",
   "execution_count": 9,
   "id": "33886c93",
   "metadata": {
    "execution": {
     "iopub.execute_input": "2024-07-10T01:36:16.245368Z",
     "iopub.status.busy": "2024-07-10T01:36:16.245005Z",
     "iopub.status.idle": "2024-07-10T01:36:16.273282Z",
     "shell.execute_reply": "2024-07-10T01:36:16.272285Z"
    },
    "papermill": {
     "duration": 0.03762,
     "end_time": "2024-07-10T01:36:16.275485",
     "exception": false,
     "start_time": "2024-07-10T01:36:16.237865",
     "status": "completed"
    },
    "tags": []
   },
   "outputs": [
    {
     "data": {
      "text/plain": [
       "array([[-0.01628867, -0.02130135],\n",
       "       [-0.01628867, -0.01262006],\n",
       "       [-0.00711777, -0.01923438],\n",
       "       ...,\n",
       "       [-0.02545958, -0.00476555],\n",
       "       [-0.02545958, -0.00476555],\n",
       "       [-0.03004503,  0.00350235]])"
      ]
     },
     "execution_count": 9,
     "metadata": {},
     "output_type": "execute_result"
    }
   ],
   "source": [
    "# Standardize the values\n",
    "X = customers[['Quantity', 'UnitPrice']]\n",
    "scaler = StandardScaler()\n",
    "X_scaled = scaler.fit_transform(X)\n",
    "X_scaled"
   ]
  },
  {
   "cell_type": "code",
   "execution_count": 10,
   "id": "3abdc863",
   "metadata": {
    "execution": {
     "iopub.execute_input": "2024-07-10T01:36:16.289242Z",
     "iopub.status.busy": "2024-07-10T01:36:16.288383Z",
     "iopub.status.idle": "2024-07-10T01:36:17.850818Z",
     "shell.execute_reply": "2024-07-10T01:36:17.849884Z"
    },
    "papermill": {
     "duration": 1.571704,
     "end_time": "2024-07-10T01:36:17.853038",
     "exception": false,
     "start_time": "2024-07-10T01:36:16.281334",
     "status": "completed"
    },
    "tags": []
   },
   "outputs": [
    {
     "data": {
      "text/plain": [
       "array([[36.],\n",
       "       [36.],\n",
       "       [36.],\n",
       "       ...,\n",
       "       [13.],\n",
       "       [13.],\n",
       "       [13.]])"
      ]
     },
     "execution_count": 10,
     "metadata": {},
     "output_type": "execute_result"
    }
   ],
   "source": [
    "# Convert cathegorical feature to integers\n",
    "countries = customers['Country']\n",
    "countries_2d = [[country] for country in countries]\n",
    "ordinal = OrdinalEncoder()\n",
    "countries_2d_encoded = ordinal.fit_transform(countries_2d)\n",
    "countries_2d_encoded"
   ]
  },
  {
   "cell_type": "code",
   "execution_count": 11,
   "id": "97f16d39",
   "metadata": {
    "execution": {
     "iopub.execute_input": "2024-07-10T01:36:17.866813Z",
     "iopub.status.busy": "2024-07-10T01:36:17.866431Z",
     "iopub.status.idle": "2024-07-10T01:36:17.880317Z",
     "shell.execute_reply": "2024-07-10T01:36:17.879315Z"
    },
    "papermill": {
     "duration": 0.023563,
     "end_time": "2024-07-10T01:36:17.882663",
     "exception": false,
     "start_time": "2024-07-10T01:36:17.859100",
     "status": "completed"
    },
    "tags": []
   },
   "outputs": [
    {
     "data": {
      "text/html": [
       "<div>\n",
       "<style scoped>\n",
       "    .dataframe tbody tr th:only-of-type {\n",
       "        vertical-align: middle;\n",
       "    }\n",
       "\n",
       "    .dataframe tbody tr th {\n",
       "        vertical-align: top;\n",
       "    }\n",
       "\n",
       "    .dataframe thead th {\n",
       "        text-align: right;\n",
       "    }\n",
       "</style>\n",
       "<table border=\"1\" class=\"dataframe\">\n",
       "  <thead>\n",
       "    <tr style=\"text-align: right;\">\n",
       "      <th></th>\n",
       "      <th>Quantity</th>\n",
       "      <th>UnitPrice</th>\n",
       "      <th>Country</th>\n",
       "    </tr>\n",
       "  </thead>\n",
       "  <tbody>\n",
       "    <tr>\n",
       "      <th>0</th>\n",
       "      <td>-0.016289</td>\n",
       "      <td>-0.021301</td>\n",
       "      <td>36.0</td>\n",
       "    </tr>\n",
       "    <tr>\n",
       "      <th>1</th>\n",
       "      <td>-0.016289</td>\n",
       "      <td>-0.012620</td>\n",
       "      <td>36.0</td>\n",
       "    </tr>\n",
       "    <tr>\n",
       "      <th>2</th>\n",
       "      <td>-0.007118</td>\n",
       "      <td>-0.019234</td>\n",
       "      <td>36.0</td>\n",
       "    </tr>\n",
       "    <tr>\n",
       "      <th>3</th>\n",
       "      <td>-0.016289</td>\n",
       "      <td>-0.012620</td>\n",
       "      <td>36.0</td>\n",
       "    </tr>\n",
       "    <tr>\n",
       "      <th>4</th>\n",
       "      <td>-0.016289</td>\n",
       "      <td>-0.012620</td>\n",
       "      <td>36.0</td>\n",
       "    </tr>\n",
       "    <tr>\n",
       "      <th>...</th>\n",
       "      <td>...</td>\n",
       "      <td>...</td>\n",
       "      <td>...</td>\n",
       "    </tr>\n",
       "    <tr>\n",
       "      <th>541904</th>\n",
       "      <td>0.011224</td>\n",
       "      <td>-0.038871</td>\n",
       "      <td>13.0</td>\n",
       "    </tr>\n",
       "    <tr>\n",
       "      <th>541905</th>\n",
       "      <td>-0.016289</td>\n",
       "      <td>-0.025952</td>\n",
       "      <td>13.0</td>\n",
       "    </tr>\n",
       "    <tr>\n",
       "      <th>541906</th>\n",
       "      <td>-0.025460</td>\n",
       "      <td>-0.004766</td>\n",
       "      <td>13.0</td>\n",
       "    </tr>\n",
       "    <tr>\n",
       "      <th>541907</th>\n",
       "      <td>-0.025460</td>\n",
       "      <td>-0.004766</td>\n",
       "      <td>13.0</td>\n",
       "    </tr>\n",
       "    <tr>\n",
       "      <th>541908</th>\n",
       "      <td>-0.030045</td>\n",
       "      <td>0.003502</td>\n",
       "      <td>13.0</td>\n",
       "    </tr>\n",
       "  </tbody>\n",
       "</table>\n",
       "<p>541909 rows × 3 columns</p>\n",
       "</div>"
      ],
      "text/plain": [
       "        Quantity  UnitPrice  Country\n",
       "0      -0.016289  -0.021301     36.0\n",
       "1      -0.016289  -0.012620     36.0\n",
       "2      -0.007118  -0.019234     36.0\n",
       "3      -0.016289  -0.012620     36.0\n",
       "4      -0.016289  -0.012620     36.0\n",
       "...          ...        ...      ...\n",
       "541904  0.011224  -0.038871     13.0\n",
       "541905 -0.016289  -0.025952     13.0\n",
       "541906 -0.025460  -0.004766     13.0\n",
       "541907 -0.025460  -0.004766     13.0\n",
       "541908 -0.030045   0.003502     13.0\n",
       "\n",
       "[541909 rows x 3 columns]"
      ]
     },
     "execution_count": 11,
     "metadata": {},
     "output_type": "execute_result"
    }
   ],
   "source": [
    "customers_scaled = pd.DataFrame(X_scaled, columns = X.columns)\n",
    "customers_scaled['Country'] = countries_2d_encoded\n",
    "customers_scaled"
   ]
  },
  {
   "cell_type": "code",
   "execution_count": 12,
   "id": "674165ba",
   "metadata": {
    "execution": {
     "iopub.execute_input": "2024-07-10T01:36:17.897337Z",
     "iopub.status.busy": "2024-07-10T01:36:17.896957Z",
     "iopub.status.idle": "2024-07-10T01:36:17.908419Z",
     "shell.execute_reply": "2024-07-10T01:36:17.907328Z"
    },
    "papermill": {
     "duration": 0.021331,
     "end_time": "2024-07-10T01:36:17.910570",
     "exception": false,
     "start_time": "2024-07-10T01:36:17.889239",
     "status": "completed"
    },
    "tags": []
   },
   "outputs": [
    {
     "data": {
      "text/plain": [
       "array([[-1.62886737e-02, -2.13013503e-02,  3.60000000e+01],\n",
       "       [-1.62886737e-02, -1.26200559e-02,  3.60000000e+01],\n",
       "       [-7.11776751e-03, -1.92343755e-02,  3.60000000e+01],\n",
       "       ...,\n",
       "       [-2.54595799e-02, -4.76555138e-03,  1.30000000e+01],\n",
       "       [-2.54595799e-02, -4.76555138e-03,  1.30000000e+01],\n",
       "       [-3.00450330e-02,  3.50234809e-03,  1.30000000e+01]])"
      ]
     },
     "execution_count": 12,
     "metadata": {},
     "output_type": "execute_result"
    }
   ],
   "source": [
    "countries_encoded = countries_2d_encoded.ravel()\n",
    "\n",
    "if len(countries_encoded) == X_scaled.shape[0]:\n",
    "    X_scaled_with_countries = np.concatenate((X_scaled, countries_2d_encoded), axis=1)\n",
    "\n",
    "X_scaled_with_countries"
   ]
  },
  {
   "cell_type": "code",
   "execution_count": 13,
   "id": "cb87cc1e",
   "metadata": {
    "execution": {
     "iopub.execute_input": "2024-07-10T01:36:17.925403Z",
     "iopub.status.busy": "2024-07-10T01:36:17.924718Z",
     "iopub.status.idle": "2024-07-10T01:39:38.733886Z",
     "shell.execute_reply": "2024-07-10T01:39:38.732853Z"
    },
    "papermill": {
     "duration": 200.825151,
     "end_time": "2024-07-10T01:39:38.742185",
     "exception": false,
     "start_time": "2024-07-10T01:36:17.917034",
     "status": "completed"
    },
    "tags": []
   },
   "outputs": [
    {
     "data": {
      "text/plain": [
       "[22068662.060325257,\n",
       " 2451218.6576777305,\n",
       " 1942457.9145585066,\n",
       " 1689249.6294127924,\n",
       " 1383344.918027781,\n",
       " 793224.945951534,\n",
       " 702734.6026449176,\n",
       " 445927.9210128067,\n",
       " 387014.3034985272,\n",
       " 298738.8055440354,\n",
       " 213670.49441237864,\n",
       " 187511.83104127398,\n",
       " 168750.71802853444,\n",
       " 115937.65240804912,\n",
       " 107346.10173431871,\n",
       " 93301.0865732736,\n",
       " 92068.3316891279,\n",
       " 82389.85517477547,\n",
       " 74475.70187151677,\n",
       " 66447.18890166299,\n",
       " 65303.13312424174,\n",
       " 57267.85854435268,\n",
       " 54007.07789958958,\n",
       " 45604.3185973294,\n",
       " 41504.14902814753,\n",
       " 38596.31391058242,\n",
       " 35174.80207406934,\n",
       " 32622.676270538508,\n",
       " 28731.109422539004,\n",
       " 25796.90620941294,\n",
       " 24115.93822621074,\n",
       " 22672.471829683545,\n",
       " 21137.25546351731,\n",
       " 20237.492285406854,\n",
       " 19913.127241557857,\n",
       " 18654.61059572681,\n",
       " 18202.86304181895,\n",
       " 17219.665604521266,\n",
       " 16530.127396713986,\n",
       " 16005.449118793807,\n",
       " 15548.850590538163,\n",
       " 14412.801269963766,\n",
       " 13854.856663251303,\n",
       " 13371.582077947494,\n",
       " 13147.560151135172,\n",
       " 12494.237832291878,\n",
       " 11793.560388436541,\n",
       " 11347.233067121004,\n",
       " 10918.847252714771,\n",
       " 10473.921733812722,\n",
       " 10150.848509333227,\n",
       " 9701.726451307795,\n",
       " 9429.30929841349,\n",
       " 9123.397762215987,\n",
       " 8678.124127488016,\n",
       " 8272.409720787115,\n",
       " 7908.271993954935,\n",
       " 7691.1226979180765,\n",
       " 7188.797692761595,\n",
       " 6996.814465525801,\n",
       " 6789.177688989888,\n",
       " 6542.984845832827,\n",
       " 6415.203677218214,\n",
       " 6080.506117150908,\n",
       " 5873.141536753476,\n",
       " 5613.520276444041,\n",
       " 5440.428719954873,\n",
       " 5285.879198955988,\n",
       " 5129.910543899749,\n",
       " 4935.4590142508305,\n",
       " 4789.259522359533,\n",
       " 4691.362133357768,\n",
       " 4571.270816520496,\n",
       " 4487.965529484331,\n",
       " 4329.761986636985,\n",
       " 4199.363775411662,\n",
       " 4042.7482357716854,\n",
       " 3948.620827252618,\n",
       " 3739.165837916466,\n",
       " 3642.881475386294,\n",
       " 3612.224604449855,\n",
       " 3382.5028721807794,\n",
       " 3283.9360276266607,\n",
       " 3220.140375740328,\n",
       " 3012.2839006107024,\n",
       " 2955.380308575549,\n",
       " 2923.7607729236806,\n",
       " 2827.2535167464275,\n",
       " 2796.349722842517,\n",
       " 2739.355965698589,\n",
       " 2693.318961264383,\n",
       " 2618.775326183998,\n",
       " 2533.1911011364564,\n",
       " 2436.449227651676,\n",
       " 2393.867786927891,\n",
       " 2337.7344897345774,\n",
       " 2290.608933623699,\n",
       " 2239.256042683829,\n",
       " 2194.9304004713667]"
      ]
     },
     "execution_count": 13,
     "metadata": {},
     "output_type": "execute_result"
    }
   ],
   "source": [
    "# Model Training\n",
    "inertia = []\n",
    "for nr_c in range(1, 100):\n",
    "    kmeans = KMeans(n_clusters = nr_c, random_state = 42, n_init = 'auto')\n",
    "    kmeans.fit(X_scaled_with_countries)\n",
    "    inertia.append(kmeans.inertia_)\n",
    "inertia"
   ]
  },
  {
   "cell_type": "code",
   "execution_count": 14,
   "id": "5fa3ae83",
   "metadata": {
    "execution": {
     "iopub.execute_input": "2024-07-10T01:39:38.757674Z",
     "iopub.status.busy": "2024-07-10T01:39:38.756762Z",
     "iopub.status.idle": "2024-07-10T01:39:39.078190Z",
     "shell.execute_reply": "2024-07-10T01:39:39.077159Z"
    },
    "papermill": {
     "duration": 0.331497,
     "end_time": "2024-07-10T01:39:39.080370",
     "exception": false,
     "start_time": "2024-07-10T01:39:38.748873",
     "status": "completed"
    },
    "tags": []
   },
   "outputs": [
    {
     "data": {
      "image/png": "[encoded data removed]",
      "text/plain": [
       "<Figure size 1000x600 with 1 Axes>"
      ]
     },
     "metadata": {},
     "output_type": "display_data"
    }
   ],
   "source": [
    "#Plot for the perfect cluster number\n",
    "cluster_range = range(50, 66) \n",
    "inertia_subset = inertia[50:66]\n",
    "plt.figure(figsize=(10, 6))\n",
    "plt.plot(cluster_range, inertia_subset, marker='o')\n",
    "plt.title('Elbow method for KMeans')\n",
    "plt.xlabel('Number of clusters')\n",
    "plt.ylabel('Inertia')\n",
    "plt.xticks(cluster_range)\n",
    "plt.show()"
   ]
  },
  {
   "cell_type": "code",
   "execution_count": 15,
   "id": "5e896ad3",
   "metadata": {
    "execution": {
     "iopub.execute_input": "2024-07-10T01:39:39.097646Z",
     "iopub.status.busy": "2024-07-10T01:39:39.096545Z",
     "iopub.status.idle": "2024-07-10T01:39:39.102000Z",
     "shell.execute_reply": "2024-07-10T01:39:39.101034Z"
    },
    "papermill": {
     "duration": 0.01609,
     "end_time": "2024-07-10T01:39:39.103954",
     "exception": false,
     "start_time": "2024-07-10T01:39:39.087864",
     "status": "completed"
    },
    "tags": []
   },
   "outputs": [
    {
     "name": "stdout",
     "output_type": "stream",
     "text": [
      "Length of inertia array: 99\n"
     ]
    }
   ],
   "source": [
    "print(\"Length of inertia array:\", len(inertia))"
   ]
  },
  {
   "cell_type": "code",
   "execution_count": 16,
   "id": "65add836",
   "metadata": {
    "execution": {
     "iopub.execute_input": "2024-07-10T01:39:39.120800Z",
     "iopub.status.busy": "2024-07-10T01:39:39.119813Z",
     "iopub.status.idle": "2024-07-10T01:39:41.130801Z",
     "shell.execute_reply": "2024-07-10T01:39:41.129807Z"
    },
    "papermill": {
     "duration": 2.021764,
     "end_time": "2024-07-10T01:39:41.133017",
     "exception": false,
     "start_time": "2024-07-10T01:39:39.111253",
     "status": "completed"
    },
    "tags": []
   },
   "outputs": [
    {
     "data": {
      "text/plain": [
       "array([48, 48, 48, ..., 17, 17, 17], dtype=int32)"
      ]
     },
     "execution_count": 16,
     "metadata": {},
     "output_type": "execute_result"
    }
   ],
   "source": [
    "kmeans = KMeans(n_clusters = 54, random_state = 42, n_init = 'auto')\n",
    "kmeans_labels = kmeans.fit_predict(X_scaled_with_countries)\n",
    "kmeans_labels"
   ]
  },
  {
   "cell_type": "code",
   "execution_count": 17,
   "id": "d8f8cf55",
   "metadata": {
    "execution": {
     "iopub.execute_input": "2024-07-10T01:39:41.150337Z",
     "iopub.status.busy": "2024-07-10T01:39:41.149516Z",
     "iopub.status.idle": "2024-07-10T02:31:53.988114Z",
     "shell.execute_reply": "2024-07-10T02:31:53.987035Z"
    },
    "papermill": {
     "duration": 3132.857422,
     "end_time": "2024-07-10T02:31:53.998027",
     "exception": false,
     "start_time": "2024-07-10T01:39:41.140605",
     "status": "completed"
    },
    "tags": []
   },
   "outputs": [
    {
     "name": "stdout",
     "output_type": "stream",
     "text": [
      "Silhouette score: 0.6208672734963305\n"
     ]
    }
   ],
   "source": [
    "# Calculate the silhouette score\n",
    "score = silhouette_score(X_scaled_with_countries, kmeans_labels)\n",
    "print(\"Silhouette score:\", score)"
   ]
  },
  {
   "cell_type": "markdown",
   "id": "50f13234",
   "metadata": {
    "papermill": {
     "duration": 0.007202,
     "end_time": "2024-07-10T02:31:54.012622",
     "exception": false,
     "start_time": "2024-07-10T02:31:54.005420",
     "status": "completed"
    },
    "tags": []
   },
   "source": [
    "So, By using K-Means we get 62 Percentage Score."
   ]
  }
 ],
 "metadata": {
  "kaggle": {
   "accelerator": "none",
   "dataSources": [
    {
     "datasetId": 1835880,
     "sourceId": 2996440,
     "sourceType": "datasetVersion"
    }
   ],
   "dockerImageVersionId": 30732,
   "isGpuEnabled": false,
   "isInternetEnabled": true,
   "language": "python",
   "sourceType": "notebook"
  },
  "kernelspec": {
   "display_name": "Python 3",
   "language": "python",
   "name": "python3"
  },
  "language_info": {
   "codemirror_mode": {
    "name": "ipython",
    "version": 3
   },
   "file_extension": ".py",
   "mimetype": "text/x-python",
   "name": "python",
   "nbconvert_exporter": "python",
   "pygments_lexer": "ipython3",
   "version": "3.10.13"
  },
  "papermill": {
   "default_parameters": {},
   "duration": 3415.470194,
   "end_time": "2024-07-10T02:31:54.846101",
   "environment_variables": {},
   "exception": null,
   "input_path": "__notebook__.ipynb",
   "output_path": "__notebook__.ipynb",
   "parameters": {},
   "start_time": "2024-07-10T01:34:59.375907",
   "version": "2.5.0"
  }
 },
 "nbformat": 4,
 "nbformat_minor": 5
}
